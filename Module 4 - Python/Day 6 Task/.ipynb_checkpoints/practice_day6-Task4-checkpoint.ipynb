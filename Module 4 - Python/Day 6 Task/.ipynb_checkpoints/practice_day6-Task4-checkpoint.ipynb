{
 "cells": [
  {
   "cell_type": "markdown",
   "id": "73dee4bb",
   "metadata": {},
   "source": [
    "4) Write a Pandas program to read a dataset from diamonds.csv(prepare yourself)\n",
    "a)DataFrame and modify the default columns values and print the first 6 rows\n",
    "b)calculate the mean of each numeric column of diamonds DataFrame.\n",
    "c)calculate count, minimum, maximum price for each cut of diamonds DataFrame\n",
    "d)print a concise summary of diamonds DataFrame.\n",
    "e)count the duplicate rows of diamonds DataFrame."
   ]
  },
  {
   "cell_type": "code",
   "execution_count": 2,
   "id": "af689688",
   "metadata": {},
   "outputs": [],
   "source": [
    "import pandas as pd\n",
    "import numpy as np"
   ]
  },
  {
   "cell_type": "markdown",
   "id": "022e76ed",
   "metadata": {},
   "source": [
    "a)DataFrame and modify the default columns values and print the first 6 rows"
   ]
  },
  {
   "cell_type": "code",
   "execution_count": 7,
   "id": "facab4d0",
   "metadata": {},
   "outputs": [
    {
     "data": {
      "text/html": [
       "<div>\n",
       "<style scoped>\n",
       "    .dataframe tbody tr th:only-of-type {\n",
       "        vertical-align: middle;\n",
       "    }\n",
       "\n",
       "    .dataframe tbody tr th {\n",
       "        vertical-align: top;\n",
       "    }\n",
       "\n",
       "    .dataframe thead th {\n",
       "        text-align: right;\n",
       "    }\n",
       "</style>\n",
       "<table border=\"1\" class=\"dataframe\">\n",
       "  <thead>\n",
       "    <tr style=\"text-align: right;\">\n",
       "      <th></th>\n",
       "      <th>carat</th>\n",
       "      <th>cut</th>\n",
       "      <th>color</th>\n",
       "      <th>clarity</th>\n",
       "      <th>depth</th>\n",
       "      <th>table</th>\n",
       "      <th>price</th>\n",
       "    </tr>\n",
       "  </thead>\n",
       "  <tbody>\n",
       "    <tr>\n",
       "      <th>0</th>\n",
       "      <td>0.23</td>\n",
       "      <td>Ideal</td>\n",
       "      <td>E</td>\n",
       "      <td>VS1</td>\n",
       "      <td>61.5</td>\n",
       "      <td>55.0</td>\n",
       "      <td>326</td>\n",
       "    </tr>\n",
       "    <tr>\n",
       "      <th>1</th>\n",
       "      <td>0.21</td>\n",
       "      <td>Ideal</td>\n",
       "      <td>E</td>\n",
       "      <td>VS2</td>\n",
       "      <td>59.8</td>\n",
       "      <td>61.0</td>\n",
       "      <td>327</td>\n",
       "    </tr>\n",
       "    <tr>\n",
       "      <th>2</th>\n",
       "      <td>0.23</td>\n",
       "      <td>Good</td>\n",
       "      <td>G</td>\n",
       "      <td>VS1</td>\n",
       "      <td>56.9</td>\n",
       "      <td>59.0</td>\n",
       "      <td>335</td>\n",
       "    </tr>\n",
       "    <tr>\n",
       "      <th>3</th>\n",
       "      <td>0.24</td>\n",
       "      <td>Premium</td>\n",
       "      <td>G</td>\n",
       "      <td>VS2</td>\n",
       "      <td>58.2</td>\n",
       "      <td>58.0</td>\n",
       "      <td>336</td>\n",
       "    </tr>\n",
       "    <tr>\n",
       "      <th>4</th>\n",
       "      <td>0.26</td>\n",
       "      <td>Good</td>\n",
       "      <td>F</td>\n",
       "      <td>SI1</td>\n",
       "      <td>59.5</td>\n",
       "      <td>58.0</td>\n",
       "      <td>345</td>\n",
       "    </tr>\n",
       "    <tr>\n",
       "      <th>5</th>\n",
       "      <td>0.30</td>\n",
       "      <td>Ideal</td>\n",
       "      <td>F</td>\n",
       "      <td>SI1</td>\n",
       "      <td>60.0</td>\n",
       "      <td>60.0</td>\n",
       "      <td>400</td>\n",
       "    </tr>\n",
       "  </tbody>\n",
       "</table>\n",
       "</div>"
      ],
      "text/plain": [
       "   carat      cut color clarity  depth  table  price\n",
       "0   0.23    Ideal     E     VS1   61.5   55.0    326\n",
       "1   0.21    Ideal     E     VS2   59.8   61.0    327\n",
       "2   0.23     Good     G     VS1   56.9   59.0    335\n",
       "3   0.24  Premium     G     VS2   58.2   58.0    336\n",
       "4   0.26     Good     F     SI1   59.5   58.0    345\n",
       "5   0.30    Ideal     F     SI1   60.0   60.0    400"
      ]
     },
     "execution_count": 7,
     "metadata": {},
     "output_type": "execute_result"
    }
   ],
   "source": [
    "df = pd.read_csv(r\"C:\\Users\\sucha\\Desktop\\C-DAC\\Module 4 - Python\\Day 6 Task\\diamonds.csv\")\n",
    "df"
   ]
  },
  {
   "cell_type": "code",
   "execution_count": 13,
   "id": "02627960",
   "metadata": {},
   "outputs": [
    {
     "data": {
      "text/html": [
       "<div>\n",
       "<style scoped>\n",
       "    .dataframe tbody tr th:only-of-type {\n",
       "        vertical-align: middle;\n",
       "    }\n",
       "\n",
       "    .dataframe tbody tr th {\n",
       "        vertical-align: top;\n",
       "    }\n",
       "\n",
       "    .dataframe thead th {\n",
       "        text-align: right;\n",
       "    }\n",
       "</style>\n",
       "<table border=\"1\" class=\"dataframe\">\n",
       "  <thead>\n",
       "    <tr style=\"text-align: right;\">\n",
       "      <th></th>\n",
       "      <th>carat</th>\n",
       "      <th>cut</th>\n",
       "      <th>color</th>\n",
       "      <th>clarity</th>\n",
       "      <th>depth</th>\n",
       "      <th>table</th>\n",
       "      <th>price</th>\n",
       "    </tr>\n",
       "  </thead>\n",
       "  <tbody>\n",
       "    <tr>\n",
       "      <th>0</th>\n",
       "      <td>0.23</td>\n",
       "      <td>Ideal</td>\n",
       "      <td>E</td>\n",
       "      <td>VS1</td>\n",
       "      <td>61.5</td>\n",
       "      <td>55.0</td>\n",
       "      <td>396</td>\n",
       "    </tr>\n",
       "    <tr>\n",
       "      <th>1</th>\n",
       "      <td>0.21</td>\n",
       "      <td>Ideal</td>\n",
       "      <td>E</td>\n",
       "      <td>VS2</td>\n",
       "      <td>59.8</td>\n",
       "      <td>61.0</td>\n",
       "      <td>327</td>\n",
       "    </tr>\n",
       "    <tr>\n",
       "      <th>2</th>\n",
       "      <td>0.23</td>\n",
       "      <td>Good</td>\n",
       "      <td>G</td>\n",
       "      <td>VS1</td>\n",
       "      <td>56.9</td>\n",
       "      <td>59.0</td>\n",
       "      <td>335</td>\n",
       "    </tr>\n",
       "    <tr>\n",
       "      <th>3</th>\n",
       "      <td>0.24</td>\n",
       "      <td>Premium</td>\n",
       "      <td>G</td>\n",
       "      <td>VS2</td>\n",
       "      <td>58.2</td>\n",
       "      <td>58.0</td>\n",
       "      <td>336</td>\n",
       "    </tr>\n",
       "    <tr>\n",
       "      <th>4</th>\n",
       "      <td>0.26</td>\n",
       "      <td>Good</td>\n",
       "      <td>F</td>\n",
       "      <td>SI1</td>\n",
       "      <td>59.5</td>\n",
       "      <td>58.0</td>\n",
       "      <td>345</td>\n",
       "    </tr>\n",
       "    <tr>\n",
       "      <th>5</th>\n",
       "      <td>0.30</td>\n",
       "      <td>Ideal</td>\n",
       "      <td>F</td>\n",
       "      <td>SI1</td>\n",
       "      <td>60.0</td>\n",
       "      <td>60.0</td>\n",
       "      <td>400</td>\n",
       "    </tr>\n",
       "  </tbody>\n",
       "</table>\n",
       "</div>"
      ],
      "text/plain": [
       "   carat      cut color clarity  depth  table  price\n",
       "0   0.23    Ideal     E     VS1   61.5   55.0    396\n",
       "1   0.21    Ideal     E     VS2   59.8   61.0    327\n",
       "2   0.23     Good     G     VS1   56.9   59.0    335\n",
       "3   0.24  Premium     G     VS2   58.2   58.0    336\n",
       "4   0.26     Good     F     SI1   59.5   58.0    345\n",
       "5   0.30    Ideal     F     SI1   60.0   60.0    400"
      ]
     },
     "execution_count": 13,
     "metadata": {},
     "output_type": "execute_result"
    }
   ],
   "source": [
    "df.loc[0,'price']=396\n",
    "df"
   ]
  },
  {
   "cell_type": "markdown",
   "id": "237b410e",
   "metadata": {},
   "source": [
    "b)calculate the mean of each numeric column of diamonds DataFrame."
   ]
  },
  {
   "cell_type": "code",
   "execution_count": 15,
   "id": "0aed8ad2",
   "metadata": {},
   "outputs": [
    {
     "data": {
      "text/plain": [
       "carat      0.245000\n",
       "depth     59.316667\n",
       "table     58.500000\n",
       "price    356.500000\n",
       "dtype: float64"
      ]
     },
     "execution_count": 15,
     "metadata": {},
     "output_type": "execute_result"
    }
   ],
   "source": [
    "mean = df[['carat','depth','table','price']].mean()\n",
    "mean"
   ]
  },
  {
   "cell_type": "markdown",
   "id": "f7a2ae7d",
   "metadata": {},
   "source": [
    "c)calculate count, minimum, maximum price for each cut of diamonds DataFrame"
   ]
  },
  {
   "cell_type": "code",
   "execution_count": 16,
   "id": "cbb41063",
   "metadata": {},
   "outputs": [
    {
     "data": {
      "text/plain": [
       "Ideal      3\n",
       "Good       2\n",
       "Premium    1\n",
       "Name: cut, dtype: int64"
      ]
     },
     "execution_count": 16,
     "metadata": {},
     "output_type": "execute_result"
    }
   ],
   "source": [
    "count = df[\"cut\"].value_counts()\n",
    "count"
   ]
  },
  {
   "cell_type": "code",
   "execution_count": 23,
   "id": "f864002b",
   "metadata": {},
   "outputs": [
    {
     "data": {
      "text/plain": [
       "cut\n",
       "Good       335\n",
       "Ideal      327\n",
       "Premium    336\n",
       "Name: price, dtype: int64"
      ]
     },
     "execution_count": 23,
     "metadata": {},
     "output_type": "execute_result"
    }
   ],
   "source": [
    "minimum = df.groupby(\"cut\").min()[\"price\"]\n",
    "minimum"
   ]
  },
  {
   "cell_type": "code",
   "execution_count": 24,
   "id": "d345a434",
   "metadata": {},
   "outputs": [
    {
     "data": {
      "text/plain": [
       "cut\n",
       "Good       345\n",
       "Ideal      400\n",
       "Premium    336\n",
       "Name: price, dtype: int64"
      ]
     },
     "execution_count": 24,
     "metadata": {},
     "output_type": "execute_result"
    }
   ],
   "source": [
    "maximum = df.groupby(\"cut\").max()[\"price\"]\n",
    "maximum"
   ]
  },
  {
   "cell_type": "markdown",
   "id": "4448397b",
   "metadata": {},
   "source": [
    "d)print a concise summary of diamonds DataFrame."
   ]
  },
  {
   "cell_type": "code",
   "execution_count": 25,
   "id": "981f1ce0",
   "metadata": {},
   "outputs": [
    {
     "data": {
      "text/html": [
       "<div>\n",
       "<style scoped>\n",
       "    .dataframe tbody tr th:only-of-type {\n",
       "        vertical-align: middle;\n",
       "    }\n",
       "\n",
       "    .dataframe tbody tr th {\n",
       "        vertical-align: top;\n",
       "    }\n",
       "\n",
       "    .dataframe thead th {\n",
       "        text-align: right;\n",
       "    }\n",
       "</style>\n",
       "<table border=\"1\" class=\"dataframe\">\n",
       "  <thead>\n",
       "    <tr style=\"text-align: right;\">\n",
       "      <th></th>\n",
       "      <th>carat</th>\n",
       "      <th>depth</th>\n",
       "      <th>table</th>\n",
       "      <th>price</th>\n",
       "    </tr>\n",
       "  </thead>\n",
       "  <tbody>\n",
       "    <tr>\n",
       "      <th>count</th>\n",
       "      <td>6.000000</td>\n",
       "      <td>6.000000</td>\n",
       "      <td>6.000000</td>\n",
       "      <td>6.000000</td>\n",
       "    </tr>\n",
       "    <tr>\n",
       "      <th>mean</th>\n",
       "      <td>0.245000</td>\n",
       "      <td>59.316667</td>\n",
       "      <td>58.500000</td>\n",
       "      <td>356.500000</td>\n",
       "    </tr>\n",
       "    <tr>\n",
       "      <th>std</th>\n",
       "      <td>0.031464</td>\n",
       "      <td>1.586716</td>\n",
       "      <td>2.073644</td>\n",
       "      <td>32.672619</td>\n",
       "    </tr>\n",
       "    <tr>\n",
       "      <th>min</th>\n",
       "      <td>0.210000</td>\n",
       "      <td>56.900000</td>\n",
       "      <td>55.000000</td>\n",
       "      <td>327.000000</td>\n",
       "    </tr>\n",
       "    <tr>\n",
       "      <th>25%</th>\n",
       "      <td>0.230000</td>\n",
       "      <td>58.525000</td>\n",
       "      <td>58.000000</td>\n",
       "      <td>335.250000</td>\n",
       "    </tr>\n",
       "    <tr>\n",
       "      <th>50%</th>\n",
       "      <td>0.235000</td>\n",
       "      <td>59.650000</td>\n",
       "      <td>58.500000</td>\n",
       "      <td>340.500000</td>\n",
       "    </tr>\n",
       "    <tr>\n",
       "      <th>75%</th>\n",
       "      <td>0.255000</td>\n",
       "      <td>59.950000</td>\n",
       "      <td>59.750000</td>\n",
       "      <td>383.250000</td>\n",
       "    </tr>\n",
       "    <tr>\n",
       "      <th>max</th>\n",
       "      <td>0.300000</td>\n",
       "      <td>61.500000</td>\n",
       "      <td>61.000000</td>\n",
       "      <td>400.000000</td>\n",
       "    </tr>\n",
       "  </tbody>\n",
       "</table>\n",
       "</div>"
      ],
      "text/plain": [
       "          carat      depth      table       price\n",
       "count  6.000000   6.000000   6.000000    6.000000\n",
       "mean   0.245000  59.316667  58.500000  356.500000\n",
       "std    0.031464   1.586716   2.073644   32.672619\n",
       "min    0.210000  56.900000  55.000000  327.000000\n",
       "25%    0.230000  58.525000  58.000000  335.250000\n",
       "50%    0.235000  59.650000  58.500000  340.500000\n",
       "75%    0.255000  59.950000  59.750000  383.250000\n",
       "max    0.300000  61.500000  61.000000  400.000000"
      ]
     },
     "execution_count": 25,
     "metadata": {},
     "output_type": "execute_result"
    }
   ],
   "source": [
    "df.describe()"
   ]
  },
  {
   "cell_type": "markdown",
   "id": "a6659b94",
   "metadata": {},
   "source": [
    "e)count the duplicate rows of diamonds DataFrame."
   ]
  },
  {
   "cell_type": "code",
   "execution_count": 36,
   "id": "2b13bd79",
   "metadata": {},
   "outputs": [
    {
     "data": {
      "text/plain": [
       "0"
      ]
     },
     "execution_count": 36,
     "metadata": {},
     "output_type": "execute_result"
    }
   ],
   "source": [
    "duplicate = df[df.duplicated()]\n",
    "duplicate_count = df.duplicated().sum()\n",
    "duplicate_count"
   ]
  }
 ],
 "metadata": {
  "kernelspec": {
   "display_name": "Python 3 (ipykernel)",
   "language": "python",
   "name": "python3"
  },
  "language_info": {
   "codemirror_mode": {
    "name": "ipython",
    "version": 3
   },
   "file_extension": ".py",
   "mimetype": "text/x-python",
   "name": "python",
   "nbconvert_exporter": "python",
   "pygments_lexer": "ipython3",
   "version": "3.10.5"
  }
 },
 "nbformat": 4,
 "nbformat_minor": 5
}
