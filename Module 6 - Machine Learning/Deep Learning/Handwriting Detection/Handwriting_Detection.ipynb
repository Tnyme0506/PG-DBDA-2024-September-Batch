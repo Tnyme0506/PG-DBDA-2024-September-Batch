{
  "nbformat": 4,
  "nbformat_minor": 0,
  "metadata": {
    "colab": {
      "provenance": [],
      "gpuType": "T4"
    },
    "kernelspec": {
      "name": "python3",
      "display_name": "Python 3"
    },
    "language_info": {
      "name": "python"
    },
    "accelerator": "GPU"
  },
  "cells": [
    {
      "cell_type": "code",
      "execution_count": 31,
      "metadata": {
        "id": "zJfQwwA7JRiG"
      },
      "outputs": [],
      "source": [
        "from PIL import Image\n",
        "import torch\n",
        "import torchvision.transforms as transforms\n",
        "import matplotlib.pyplot as plt"
      ]
    },
    {
      "cell_type": "code",
      "source": [
        "model = torch.jit.load(r'/content/best_model.pt')\n",
        "model.eval()"
      ],
      "metadata": {
        "colab": {
          "base_uri": "https://localhost:8080/"
        },
        "id": "gPfwiPsxJhrO",
        "outputId": "fcf2dba5-c11a-40c9-8231-47591ed78c9e"
      },
      "execution_count": 32,
      "outputs": [
        {
          "output_type": "execute_result",
          "data": {
            "text/plain": [
              "RecursiveScriptModule(\n",
              "  original_name=HandwritingRecognitionModel\n",
              "  (conv1): RecursiveScriptModule(original_name=Conv2d)\n",
              "  (conv2): RecursiveScriptModule(original_name=Conv2d)\n",
              "  (pool): RecursiveScriptModule(original_name=MaxPool2d)\n",
              "  (fc1): RecursiveScriptModule(original_name=Linear)\n",
              "  (fc2): RecursiveScriptModule(original_name=Linear)\n",
              "  (dropout): RecursiveScriptModule(original_name=Dropout)\n",
              "  (relu): RecursiveScriptModule(original_name=ReLU)\n",
              ")"
            ]
          },
          "metadata": {},
          "execution_count": 32
        }
      ]
    },
    {
      "cell_type": "code",
      "source": [
        "def preprocess_image(image_path):\n",
        "    transform = transforms.Compose([\n",
        "        transforms.Grayscale(num_output_channels=1),\n",
        "        transforms.Resize((28, 28)),\n",
        "        transforms.ToTensor(),\n",
        "        transforms.Normalize((0.5,), (0.5,))\n",
        "    ])\n",
        "    image = Image.open(image_path).convert(\"L\")\n",
        "    image = transform(image).unsqueeze(0)\n",
        "    return image"
      ],
      "metadata": {
        "id": "m3HE6SeaJ9wC"
      },
      "execution_count": 33,
      "outputs": []
    },
    {
      "cell_type": "code",
      "source": [
        "def predict_image(image_path, model):\n",
        "    # Preprocess the image\n",
        "    device = torch.device(\"cuda\" if torch.cuda.is_available() else \"cpu\")\n",
        "    image = preprocess_image(image_path).to(device)  # Send to appropriate device\n",
        "\n",
        "    # Perform inference\n",
        "    with torch.no_grad():\n",
        "        outputs = model(image)\n",
        "        _, predicted_class = torch.max(outputs, 1)  # Get the class with highest score\n",
        "\n",
        "    # EMNIST Balanced Dataset class labels\n",
        "    emnist_labels = [\n",
        "    '0', '1', '2', '3', '4', '5', '6', '7', '8', '9',\n",
        "    'A', 'B', 'C', 'D', 'E', 'F', 'G', 'H', 'I', 'J',\n",
        "    'K', 'L', 'M', 'N', 'O', 'P', 'Q', 'R', 'S', 'T',\n",
        "    'U', 'V', 'W', 'X', 'Y', 'Z',\n",
        "    'a', 'b', 'd', 'e', 'f', 'g', 'h', 'n', 'q', 'r',\n",
        "    't'\n",
        "    ]\n",
        "\n",
        "    return emnist_labels[predicted_class.item()]"
      ],
      "metadata": {
        "id": "KK1rOzRHLFYZ"
      },
      "execution_count": 34,
      "outputs": []
    },
    {
      "cell_type": "code",
      "source": [
        "def visualize_prediction(image_path, predicted_class):\n",
        "    image = Image.open(image_path)\n",
        "    plt.imshow(image, cmap=\"gray\")\n",
        "    plt.title(f\"Predicted Class: {predicted_class}\")\n",
        "    plt.axis(\"off\")\n",
        "    plt.show()"
      ],
      "metadata": {
        "id": "wKhjrcUyLTZI"
      },
      "execution_count": 35,
      "outputs": []
    },
    {
      "cell_type": "code",
      "source": [
        "image_path = r\"/content/Example-1.png\"\n",
        "predicted_class = predict_image(image_path, model)\n",
        "print(f\"Predicted class: {predicted_class}\")"
      ],
      "metadata": {
        "colab": {
          "base_uri": "https://localhost:8080/"
        },
        "id": "5064vsR1LIXi",
        "outputId": "279d26a7-2963-4021-e341-f338dc2c2953"
      },
      "execution_count": 38,
      "outputs": [
        {
          "output_type": "stream",
          "name": "stdout",
          "text": [
            "Predicted class: B\n"
          ]
        }
      ]
    },
    {
      "cell_type": "code",
      "source": [
        "visualize_prediction(image_path, predicted_class)"
      ],
      "metadata": {
        "colab": {
          "base_uri": "https://localhost:8080/",
          "height": 428
        },
        "id": "JDkTOhCZLV5-",
        "outputId": "49080806-76ff-4e60-cdc1-4f40dd8f91c3"
      },
      "execution_count": 39,
      "outputs": [
        {
          "output_type": "display_data",
          "data": {
            "text/plain": [
              "<Figure size 640x480 with 1 Axes>"
            ],
            "image/png": "[encoded data removed]"
          },
          "metadata": {}
        }
      ]
    }
  ]
}