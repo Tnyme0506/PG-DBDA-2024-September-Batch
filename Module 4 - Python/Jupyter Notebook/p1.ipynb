{
 "cells": [
  {
   "cell_type": "code",
   "execution_count": 49,
   "id": "95074705",
   "metadata": {},
   "outputs": [],
   "source": [
    "import numpy as np"
   ]
  },
  {
   "cell_type": "code",
   "execution_count": 46,
   "id": "81b46309",
   "metadata": {},
   "outputs": [],
   "source": [
    "import scipy.io\n",
    "data = scipy.io.loadmat(r\"C:\\Users\\sucha\\Downloads\\Project 1\\Project 1\\train_data.mat\")"
   ]
  },
  {
   "cell_type": "code",
   "execution_count": 58,
   "id": "54e8881c",
   "metadata": {},
   "outputs": [],
   "source": [
    "numpy_array = data['x']"
   ]
  },
  {
   "cell_type": "code",
   "execution_count": 64,
   "id": "152ba490",
   "metadata": {},
   "outputs": [
    {
     "data": {
      "text/plain": [
       "array([  0.,   0.,   0.,   0.,   0.,   0.,   0.,   1.,   0.,   0.,  77.,\n",
       "       102.,  29.,  32.,  19.,  96., 107.,   0.,   0.,   0.,   0.,   0.,\n",
       "         0.,   0.,   0.,   0.,   0.,   0.])"
      ]
     },
     "execution_count": 64,
     "metadata": {},
     "output_type": "execute_result"
    }
   ],
   "source": [
    "numpy_array[0][0]"
   ]
  },
  {
   "cell_type": "code",
   "execution_count": 65,
   "id": "a95174ad",
   "metadata": {},
   "outputs": [
    {
     "data": {
      "text/plain": [
       "(12000, 28, 28)"
      ]
     },
     "execution_count": 65,
     "metadata": {},
     "output_type": "execute_result"
    }
   ],
   "source": [
    "numpy_array.shape"
   ]
  },
  {
   "cell_type": "code",
   "execution_count": 68,
   "id": "413dcb27",
   "metadata": {},
   "outputs": [],
   "source": [
    "f_arr = numpy_array.reshape(12000,28*28)"
   ]
  },
  {
   "cell_type": "code",
   "execution_count": 69,
   "id": "54f5070a",
   "metadata": {},
   "outputs": [
    {
     "data": {
      "text/plain": [
       "(12000, 784)"
      ]
     },
     "execution_count": 69,
     "metadata": {},
     "output_type": "execute_result"
    }
   ],
   "source": [
    "f_arr.shape"
   ]
  },
  {
   "cell_type": "code",
   "execution_count": 70,
   "id": "7a6c84db",
   "metadata": {},
   "outputs": [
    {
     "data": {
      "text/plain": [
       "array([[0., 0., 0., ..., 0., 0., 0.],\n",
       "       [0., 0., 0., ..., 0., 0., 0.],\n",
       "       [0., 0., 0., ..., 0., 0., 0.],\n",
       "       ...,\n",
       "       [0., 0., 0., ..., 0., 0., 0.],\n",
       "       [0., 0., 0., ..., 0., 0., 0.],\n",
       "       [0., 0., 0., ..., 0., 0., 0.]])"
      ]
     },
     "execution_count": 70,
     "metadata": {},
     "output_type": "execute_result"
    }
   ],
   "source": [
    "f_arr"
   ]
  },
  {
   "cell_type": "code",
   "execution_count": 73,
   "id": "fca2a058",
   "metadata": {},
   "outputs": [
    {
     "data": {
      "text/plain": [
       "62.89602636054422"
      ]
     },
     "execution_count": 73,
     "metadata": {},
     "output_type": "execute_result"
    }
   ],
   "source": [
    "f_arr.mean()"
   ]
  },
  {
   "cell_type": "code",
   "execution_count": 74,
   "id": "160eb66e",
   "metadata": {},
   "outputs": [
    {
     "data": {
      "text/plain": [
       "85.03119705648128"
      ]
     },
     "execution_count": 74,
     "metadata": {},
     "output_type": "execute_result"
    }
   ],
   "source": [
    "f_arr.std()"
   ]
  }
 ],
 "metadata": {
  "kernelspec": {
   "display_name": "Python 3 (ipykernel)",
   "language": "python",
   "name": "python3"
  },
  "language_info": {
   "codemirror_mode": {
    "name": "ipython",
    "version": 3
   },
   "file_extension": ".py",
   "mimetype": "text/x-python",
   "name": "python",
   "nbconvert_exporter": "python",
   "pygments_lexer": "ipython3",
   "version": "3.10.5"
  }
 },
 "nbformat": 4,
 "nbformat_minor": 5
}
