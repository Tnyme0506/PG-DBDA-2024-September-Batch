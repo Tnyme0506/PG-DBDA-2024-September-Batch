{
  "nbformat": 4,
  "nbformat_minor": 0,
  "metadata": {
    "colab": {
      "provenance": [],
      "gpuType": "T4"
    },
    "kernelspec": {
      "name": "python3",
      "display_name": "Python 3"
    },
    "language_info": {
      "name": "python"
    },
    "accelerator": "GPU"
  },
  "cells": [
    {
      "cell_type": "code",
      "execution_count": 15,
      "metadata": {
        "id": "nk6x16mnTjYN"
      },
      "outputs": [],
      "source": [
        "import torch\n",
        "import torch.nn as nn\n",
        "import torch.optim as optim\n",
        "from torch.optim.lr_scheduler import StepLR\n",
        "from torchvision import datasets, transforms\n",
        "from torch.utils.data import DataLoader"
      ]
    },
    {
      "cell_type": "code",
      "source": [
        "device = torch.device(\"cuda\" if torch.cuda.is_available() else \"cpu\")\n",
        "print(f\"Using device: {device}\")"
      ],
      "metadata": {
        "colab": {
          "base_uri": "https://localhost:8080/"
        },
        "id": "M7yjH5klUEd1",
        "outputId": "5267fb2d-0fcf-46a6-a525-c6d3c04ecf42"
      },
      "execution_count": 16,
      "outputs": [
        {
          "output_type": "stream",
          "name": "stdout",
          "text": [
            "Using device: cuda\n"
          ]
        }
      ]
    },
    {
      "cell_type": "code",
      "source": [
        "batch_size = 64\n",
        "learning_rate = 0.001\n",
        "num_epochs = 15"
      ],
      "metadata": {
        "id": "3QyDwf6DUh1N"
      },
      "execution_count": 17,
      "outputs": []
    },
    {
      "cell_type": "code",
      "source": [
        "transform = transforms.Compose([\n",
        "   # transforms.RandomRotation(10),\n",
        "    #transforms.RandomHorizontalFlip(),\n",
        "    transforms.ToTensor(),\n",
        "    transforms.Normalize((0.5,), (0.5,))\n",
        "])"
      ],
      "metadata": {
        "id": "TbpIYSWWUn7e"
      },
      "execution_count": 18,
      "outputs": []
    },
    {
      "cell_type": "code",
      "source": [
        "train_dataset = datasets.EMNIST(root='./data', split='balanced', train=True, download=True, transform=transform)\n",
        "test_dataset = datasets.EMNIST(root='./data', split='balanced', train=False, download=True, transform=transform)"
      ],
      "metadata": {
        "id": "rYnPQCdMUxqa"
      },
      "execution_count": 19,
      "outputs": []
    },
    {
      "cell_type": "code",
      "source": [
        "train_loader = DataLoader(train_dataset, batch_size=batch_size, shuffle=True)\n",
        "test_loader = DataLoader(test_dataset, batch_size=batch_size, shuffle=False)"
      ],
      "metadata": {
        "id": "DvAkalQ9VEhL"
      },
      "execution_count": 20,
      "outputs": []
    },
    {
      "cell_type": "code",
      "source": [
        "class HandwritingRecognitionModel(nn.Module):\n",
        "    def __init__(self):\n",
        "        super(HandwritingRecognitionModel, self).__init__()\n",
        "        self.conv1 = nn.Conv2d(1, 32, kernel_size=3, stride=1, padding=1)\n",
        "        self.conv2 = nn.Conv2d(32, 64, kernel_size=3, stride=1, padding=1)\n",
        "        self.pool = nn.MaxPool2d(kernel_size=2, stride=2)\n",
        "        self.fc1 = nn.Linear(12544, 256)\n",
        "        self.fc2 = nn.Linear(256, 47)  # 47 classes in EMNIST balanced\n",
        "        self.dropout = nn.Dropout(0.5)\n",
        "        self.relu = nn.ReLU()\n",
        "\n",
        "    def forward(self, x):\n",
        "        #print(f\"Input shape: {x.shape}\")\n",
        "        x = self.relu(self.conv1(x))\n",
        "        #print(f\"After conv1: {x.shape}\")\n",
        "        x = self.pool(self.relu(self.conv2(x)))\n",
        "        #print(f\"After conv2 + pool: {x.shape}\")\n",
        "        x = x.view(x.size(0), -1)\n",
        "        #print(f\"Flattened shape: {x.shape}\")\n",
        "        x = self.relu(self.fc1(x))\n",
        "        x = self.dropout(x)\n",
        "        x = self.fc2(x)\n",
        "        return x"
      ],
      "metadata": {
        "id": "J9QrpRDQVIQK"
      },
      "execution_count": 21,
      "outputs": []
    },
    {
      "cell_type": "code",
      "source": [
        "def train(model, train_loader, criterion, optimizer, device):\n",
        "    model.train()\n",
        "    total_loss = 0\n",
        "    for images, labels in train_loader:\n",
        "        images, labels = images.to(device), labels.to(device)\n",
        "\n",
        "        # Forward pass\n",
        "        outputs = model(images)\n",
        "        loss = criterion(outputs, labels)\n",
        "\n",
        "        # Backward pass and optimization\n",
        "        optimizer.zero_grad()\n",
        "        loss.backward()\n",
        "        optimizer.step()\n",
        "\n",
        "        total_loss += loss.item()\n",
        "    return total_loss / len(train_loader)"
      ],
      "metadata": {
        "id": "iD7XGpbnVRRh"
      },
      "execution_count": 22,
      "outputs": []
    },
    {
      "cell_type": "code",
      "source": [
        "def evaluate(model, test_loader, criterion, device):\n",
        "    model.eval()\n",
        "    total_loss = 0\n",
        "    correct = 0\n",
        "    total = 0\n",
        "    with torch.no_grad():\n",
        "        for images, labels in test_loader:\n",
        "            images, labels = images.to(device), labels.to(device)\n",
        "            outputs = model(images)\n",
        "            loss = criterion(outputs, labels)\n",
        "            total_loss += loss.item()\n",
        "\n",
        "            _, predicted = torch.max(outputs, 1)\n",
        "            correct += (predicted == labels).sum().item()\n",
        "            total += labels.size(0)\n",
        "    accuracy = 100 * correct / total\n",
        "    return total_loss / len(test_loader), accuracy"
      ],
      "metadata": {
        "id": "EN-AiUVAVaMW"
      },
      "execution_count": 23,
      "outputs": []
    },
    {
      "cell_type": "code",
      "source": [
        "model = HandwritingRecognitionModel().to(device)"
      ],
      "metadata": {
        "id": "uIur2F2PVgsY"
      },
      "execution_count": 24,
      "outputs": []
    },
    {
      "cell_type": "code",
      "source": [
        "criterion = nn.CrossEntropyLoss()\n",
        "optimizer = optim.Adam(model.parameters(), lr=learning_rate)\n",
        "scheduler = StepLR(optimizer, step_size=5, gamma=0.1)"
      ],
      "metadata": {
        "id": "DtPzBzvaVr8w"
      },
      "execution_count": 25,
      "outputs": []
    },
    {
      "cell_type": "code",
      "source": [
        "for epoch in range(num_epochs):\n",
        "    train_loss = train(model, train_loader, criterion, optimizer, device)\n",
        "    val_loss, val_accuracy = evaluate(model, test_loader, criterion, device)\n",
        "    print(f\"Epoch [{epoch+1}/{num_epochs}], Train Loss: {train_loss:.4f}, Val Loss: {val_loss:.4f}, Val Accuracy: {val_accuracy:.2f}%\")\n",
        "    if val_loss < best_loss:\n",
        "        best_loss = val_loss\n",
        "        patience_count = 0\n",
        "        torch.jit.script(model).save(\"best_model.pt\")"
      ],
      "metadata": {
        "colab": {
          "base_uri": "https://localhost:8080/"
        },
        "id": "nAx-W0nIVzTq",
        "outputId": "daaf6d43-9189-4a1d-c59c-379c8e434f72"
      },
      "execution_count": 26,
      "outputs": [
        {
          "output_type": "stream",
          "name": "stdout",
          "text": [
            "Epoch [1/15], Train Loss: 0.8569, Val Loss: 0.4456, Val Accuracy: 84.59%\n",
            "Epoch [2/15], Train Loss: 0.5198, Val Loss: 0.3896, Val Accuracy: 86.75%\n",
            "Epoch [3/15], Train Loss: 0.4473, Val Loss: 0.3795, Val Accuracy: 86.97%\n",
            "Epoch [4/15], Train Loss: 0.4029, Val Loss: 0.3698, Val Accuracy: 87.29%\n",
            "Epoch [5/15], Train Loss: 0.3678, Val Loss: 0.3607, Val Accuracy: 87.75%\n",
            "Epoch [6/15], Train Loss: 0.3409, Val Loss: 0.3692, Val Accuracy: 87.78%\n",
            "Epoch [7/15], Train Loss: 0.3160, Val Loss: 0.3627, Val Accuracy: 87.84%\n",
            "Epoch [8/15], Train Loss: 0.2961, Val Loss: 0.3743, Val Accuracy: 87.79%\n",
            "Epoch [9/15], Train Loss: 0.2777, Val Loss: 0.3772, Val Accuracy: 88.02%\n",
            "Epoch [10/15], Train Loss: 0.2627, Val Loss: 0.3967, Val Accuracy: 87.96%\n",
            "Epoch [11/15], Train Loss: 0.2483, Val Loss: 0.4003, Val Accuracy: 87.81%\n",
            "Epoch [12/15], Train Loss: 0.2360, Val Loss: 0.4139, Val Accuracy: 87.78%\n",
            "Epoch [13/15], Train Loss: 0.2238, Val Loss: 0.4199, Val Accuracy: 87.87%\n",
            "Epoch [14/15], Train Loss: 0.2148, Val Loss: 0.4371, Val Accuracy: 87.60%\n",
            "Epoch [15/15], Train Loss: 0.2050, Val Loss: 0.4354, Val Accuracy: 87.46%\n"
          ]
        }
      ]
    },
    {
      "cell_type": "code",
      "source": [],
      "metadata": {
        "id": "my-ulqimIS4H"
      },
      "execution_count": null,
      "outputs": []
    }
  ]
}