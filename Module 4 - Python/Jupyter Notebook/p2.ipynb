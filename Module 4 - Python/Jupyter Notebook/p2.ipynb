{
 "cells": [
  {
   "cell_type": "code",
   "execution_count": 20,
   "id": "265777b0",
   "metadata": {},
   "outputs": [
    {
     "name": "stdout",
     "output_type": "stream",
     "text": [
      "Enter 1st number: 20\n",
      "Enter 2nd number: 80\n",
      "Enter 3rd number: 10\n"
     ]
    },
    {
     "data": {
      "text/plain": [
       "array([20, 80, 10])"
      ]
     },
     "execution_count": 20,
     "metadata": {},
     "output_type": "execute_result"
    }
   ],
   "source": [
    "import numpy as np\n",
    "\n",
    "arr = np.array([10, 20, 30, 40, 50, 60, 70, 80, 90, 100])\n",
    "\n",
    "num1 = int(input(\"Enter 1st number: \"))\n",
    "num2 = int(input(\"Enter 2nd number: \"))\n",
    "num3 = int(input(\"Enter 3rd number: \"))\n",
    "\n",
    "inp_arr = np.array([num1,num2,num3])\n",
    "\n",
    "inp_arr"
   ]
  },
  {
   "cell_type": "code",
   "execution_count": 26,
   "id": "d336d8c7",
   "metadata": {},
   "outputs": [
    {
     "data": {
      "text/plain": [
       "[1, 7, 0]"
      ]
     },
     "execution_count": 26,
     "metadata": {},
     "output_type": "execute_result"
    }
   ],
   "source": [
    "indices = [np.where(num == arr)[0] for num in inp_arr]\n",
    "indices = [ind[0] for ind in indices]\n",
    "indices"
   ]
  },
  {
   "cell_type": "markdown",
   "id": "31954a7b",
   "metadata": {},
   "source": [
    "Question 2:"
   ]
  },
  {
   "cell_type": "code",
   "execution_count": 30,
   "id": "58e47aed",
   "metadata": {},
   "outputs": [
    {
     "data": {
      "text/plain": [
       "array([24, 29, 33, 41, 56])"
      ]
     },
     "execution_count": 30,
     "metadata": {},
     "output_type": "execute_result"
    }
   ],
   "source": [
    "# Create a boolean mask for elements greater than 20\n",
    "arr = np.array([5, 12, 17, 24, 29, 33, 41, 56])\n",
    "\n",
    "mask = arr>20\n",
    "arr[mask]"
   ]
  },
  {
   "cell_type": "code",
   "execution_count": 31,
   "id": "7dc1fd23",
   "metadata": {},
   "outputs": [
    {
     "data": {
      "text/plain": [
       "array([ 5, 12, 17, -1, -1, -1, -1, -1])"
      ]
     },
     "execution_count": 31,
     "metadata": {},
     "output_type": "execute_result"
    }
   ],
   "source": [
    "# Use the mask to filter the array. Set arr>20 to -1\n",
    "arr[mask] = -1\n",
    "arr"
   ]
  },
  {
   "cell_type": "code",
   "execution_count": 34,
   "id": "2274d01e",
   "metadata": {},
   "outputs": [
    {
     "data": {
      "text/plain": [
       "array([12])"
      ]
     },
     "execution_count": 34,
     "metadata": {},
     "output_type": "execute_result"
    }
   ],
   "source": [
    "# Create a new mask for even elements\n",
    "# Use the mask to filter the array\n",
    "mask = arr%2 == 0\n",
    "arr[mask]"
   ]
  },
  {
   "cell_type": "markdown",
   "id": "666c0251",
   "metadata": {},
   "source": [
    "Question 3:"
   ]
  },
  {
   "cell_type": "code",
   "execution_count": 39,
   "id": "f7a811ab",
   "metadata": {},
   "outputs": [],
   "source": [
    "arr1 = np.array([['hello', 'good'], ['morning', 'night']])\n",
    "arr2 = np.array([['world', 'morning'], ['everyone', 'moon']])\n"
   ]
  },
  {
   "cell_type": "code",
   "execution_count": 42,
   "id": "f5858133",
   "metadata": {},
   "outputs": [
    {
     "data": {
      "text/plain": [
       "array([['helloworld', 'goodmorning'],\n",
       "       ['morningeveryone', 'nightmoon']], dtype='<U15')"
      ]
     },
     "execution_count": 42,
     "metadata": {},
     "output_type": "execute_result"
    }
   ],
   "source": [
    "np.char.add(arr1,arr2)"
   ]
  },
  {
   "cell_type": "code",
   "execution_count": 43,
   "id": "fbdc22e7",
   "metadata": {},
   "outputs": [
    {
     "data": {
      "text/plain": [
       "array([['Helloworld', 'Goodmorning'],\n",
       "       ['Morningeveryone', 'Nightmoon']], dtype='<U15')"
      ]
     },
     "execution_count": 43,
     "metadata": {},
     "output_type": "execute_result"
    }
   ],
   "source": [
    "np.char.add(np.char.capitalize(arr1),arr2)"
   ]
  },
  {
   "cell_type": "code",
   "execution_count": 52,
   "id": "15aa9547",
   "metadata": {},
   "outputs": [
    {
     "data": {
      "text/plain": [
       "array(['HelloworldHelloworld', 'GoodmorningGoodmorning'], dtype='<U30')"
      ]
     },
     "execution_count": 52,
     "metadata": {},
     "output_type": "execute_result"
    }
   ],
   "source": [
    "np.char.multiply(np.char.add((np.char.capitalize(arr1)),(arr2)),2)[0]"
   ]
  },
  {
   "cell_type": "code",
   "execution_count": null,
   "id": "ea04fed3",
   "metadata": {},
   "outputs": [],
   "source": []
  }
 ],
 "metadata": {
  "kernelspec": {
   "display_name": "Python 3 (ipykernel)",
   "language": "python",
   "name": "python3"
  },
  "language_info": {
   "codemirror_mode": {
    "name": "ipython",
    "version": 3
   },
   "file_extension": ".py",
   "mimetype": "text/x-python",
   "name": "python",
   "nbconvert_exporter": "python",
   "pygments_lexer": "ipython3",
   "version": "3.10.5"
  }
 },
 "nbformat": 4,
 "nbformat_minor": 5
}
